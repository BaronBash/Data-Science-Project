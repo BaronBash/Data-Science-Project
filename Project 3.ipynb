{
 "cells": [
  {
   "cell_type": "code",
   "execution_count": 143,
   "metadata": {},
   "outputs": [],
   "source": [
    "import numpy as np\n",
    "import matplotlib.pyplot as plt\n",
    "import pandas as pd\n",
    "import seaborn as sns\n",
    "import plotly.express as px\n",
    "from sklearn.metrics import r2_score, mean_absolute_error, mean_squared_error\n",
    "from sklearn.model_selection import train_test_split\n",
    "from sklearn.linear_model import LinearRegression\n",
    "from sklearn.neighbors import KNeighborsClassifier\n",
    "from sklearn.tree import DecisionTreeClassifier\n",
    "from sklearn.ensemble import RandomForestClassifier\n",
    "from sklearn.metrics import classification_report, confusion_matrix\n",
    "from sklearn.preprocessing import LabelEncoder\n",
    "from sklearn.linear_model import LogisticRegression"
   ]
  },
  {
   "cell_type": "code",
   "execution_count": 144,
   "metadata": {},
   "outputs": [
    {
     "data": {
      "text/html": [
       "<div>\n",
       "<style scoped>\n",
       "    .dataframe tbody tr th:only-of-type {\n",
       "        vertical-align: middle;\n",
       "    }\n",
       "\n",
       "    .dataframe tbody tr th {\n",
       "        vertical-align: top;\n",
       "    }\n",
       "\n",
       "    .dataframe thead th {\n",
       "        text-align: right;\n",
       "    }\n",
       "</style>\n",
       "<table border=\"1\" class=\"dataframe\">\n",
       "  <thead>\n",
       "    <tr style=\"text-align: right;\">\n",
       "      <th></th>\n",
       "      <th>age</th>\n",
       "      <th>sex</th>\n",
       "      <th>bmi</th>\n",
       "      <th>children</th>\n",
       "      <th>smoker</th>\n",
       "      <th>region</th>\n",
       "      <th>charges</th>\n",
       "    </tr>\n",
       "  </thead>\n",
       "  <tbody>\n",
       "    <tr>\n",
       "      <th>0</th>\n",
       "      <td>19</td>\n",
       "      <td>female</td>\n",
       "      <td>27.900</td>\n",
       "      <td>0</td>\n",
       "      <td>yes</td>\n",
       "      <td>southwest</td>\n",
       "      <td>16884.92400</td>\n",
       "    </tr>\n",
       "    <tr>\n",
       "      <th>1</th>\n",
       "      <td>18</td>\n",
       "      <td>male</td>\n",
       "      <td>33.770</td>\n",
       "      <td>1</td>\n",
       "      <td>no</td>\n",
       "      <td>southeast</td>\n",
       "      <td>1725.55230</td>\n",
       "    </tr>\n",
       "    <tr>\n",
       "      <th>2</th>\n",
       "      <td>28</td>\n",
       "      <td>male</td>\n",
       "      <td>33.000</td>\n",
       "      <td>3</td>\n",
       "      <td>no</td>\n",
       "      <td>southeast</td>\n",
       "      <td>4449.46200</td>\n",
       "    </tr>\n",
       "    <tr>\n",
       "      <th>3</th>\n",
       "      <td>33</td>\n",
       "      <td>male</td>\n",
       "      <td>22.705</td>\n",
       "      <td>0</td>\n",
       "      <td>no</td>\n",
       "      <td>northwest</td>\n",
       "      <td>21984.47061</td>\n",
       "    </tr>\n",
       "    <tr>\n",
       "      <th>4</th>\n",
       "      <td>32</td>\n",
       "      <td>male</td>\n",
       "      <td>28.880</td>\n",
       "      <td>0</td>\n",
       "      <td>no</td>\n",
       "      <td>northwest</td>\n",
       "      <td>3866.85520</td>\n",
       "    </tr>\n",
       "  </tbody>\n",
       "</table>\n",
       "</div>"
      ],
      "text/plain": [
       "   age     sex     bmi  children smoker     region      charges\n",
       "0   19  female  27.900         0    yes  southwest  16884.92400\n",
       "1   18    male  33.770         1     no  southeast   1725.55230\n",
       "2   28    male  33.000         3     no  southeast   4449.46200\n",
       "3   33    male  22.705         0     no  northwest  21984.47061\n",
       "4   32    male  28.880         0     no  northwest   3866.85520"
      ]
     },
     "execution_count": 144,
     "metadata": {},
     "output_type": "execute_result"
    }
   ],
   "source": [
    "df = pd.read_csv('insurance.csv')\n",
    "df.head()"
   ]
  },
  {
   "cell_type": "code",
   "execution_count": 100,
   "metadata": {},
   "outputs": [
    {
     "data": {
      "text/plain": [
       "age         0\n",
       "sex         0\n",
       "bmi         0\n",
       "children    0\n",
       "smoker      0\n",
       "region      0\n",
       "charges     0\n",
       "dtype: int64"
      ]
     },
     "execution_count": 100,
     "metadata": {},
     "output_type": "execute_result"
    }
   ],
   "source": [
    "df.isnull().sum()"
   ]
  },
  {
   "cell_type": "code",
   "execution_count": 101,
   "metadata": {},
   "outputs": [
    {
     "data": {
      "text/plain": [
       "(1338, 7)"
      ]
     },
     "execution_count": 101,
     "metadata": {},
     "output_type": "execute_result"
    }
   ],
   "source": [
    "df.shape"
   ]
  },
  {
   "cell_type": "code",
   "execution_count": 102,
   "metadata": {},
   "outputs": [],
   "source": [
    "###Find the average score for age"
   ]
  },
  {
   "cell_type": "code",
   "execution_count": 103,
   "metadata": {},
   "outputs": [
    {
     "data": {
      "text/plain": [
       "<AxesSubplot:ylabel='age'>"
      ]
     },
     "execution_count": 103,
     "metadata": {},
     "output_type": "execute_result"
    },
    {
     "data": {
      "image/png": "[encoded data removed]",
      "text/plain": [
       "<Figure size 432x288 with 1 Axes>"
      ]
     },
     "metadata": {
      "needs_background": "light"
     },
     "output_type": "display_data"
    }
   ],
   "source": [
    "sns.barplot(y = df['age'], estimator=np.mean)"
   ]
  },
  {
   "cell_type": "code",
   "execution_count": 104,
   "metadata": {},
   "outputs": [],
   "source": [
    "###Find the average score for BMI"
   ]
  },
  {
   "cell_type": "code",
   "execution_count": 105,
   "metadata": {},
   "outputs": [
    {
     "data": {
      "text/plain": [
       "<AxesSubplot:ylabel='bmi'>"
      ]
     },
     "execution_count": 105,
     "metadata": {},
     "output_type": "execute_result"
    },
    {
     "data": {
      "image/png": "[encoded data removed]",
      "text/plain": [
       "<Figure size 432x288 with 1 Axes>"
      ]
     },
     "metadata": {
      "needs_background": "light"
     },
     "output_type": "display_data"
    }
   ],
   "source": [
    "sns.barplot(y = df['bmi'], estimator=np.mean)"
   ]
  },
  {
   "cell_type": "code",
   "execution_count": 106,
   "metadata": {},
   "outputs": [],
   "source": [
    "###Find the max number of children"
   ]
  },
  {
   "cell_type": "code",
   "execution_count": 107,
   "metadata": {},
   "outputs": [
    {
     "data": {
      "text/plain": [
       "<AxesSubplot:ylabel='children'>"
      ]
     },
     "execution_count": 107,
     "metadata": {},
     "output_type": "execute_result"
    },
    {
     "data": {
      "image/png": "[encoded data removed]",
      "text/plain": [
       "<Figure size 432x288 with 1 Axes>"
      ]
     },
     "metadata": {
      "needs_background": "light"
     },
     "output_type": "display_data"
    }
   ],
   "source": [
    "sns.barplot(y = df['children'], estimator=max)"
   ]
  },
  {
   "cell_type": "code",
   "execution_count": 108,
   "metadata": {},
   "outputs": [],
   "source": [
    "###Find the average score for charges"
   ]
  },
  {
   "cell_type": "code",
   "execution_count": 109,
   "metadata": {},
   "outputs": [
    {
     "data": {
      "text/plain": [
       "<AxesSubplot:ylabel='charges'>"
      ]
     },
     "execution_count": 109,
     "metadata": {},
     "output_type": "execute_result"
    },
    {
     "data": {
      "image/png": "[encoded data removed]",
      "text/plain": [
       "<Figure size 432x288 with 1 Axes>"
      ]
     },
     "metadata": {
      "needs_background": "light"
     },
     "output_type": "display_data"
    }
   ],
   "source": [
    "sns.barplot(y = df['charges'], estimator = np.mean)"
   ]
  },
  {
   "cell_type": "code",
   "execution_count": 110,
   "metadata": {},
   "outputs": [],
   "source": [
    "###Determine if outliers are present in charges"
   ]
  },
  {
   "cell_type": "code",
   "execution_count": 111,
   "metadata": {},
   "outputs": [
    {
     "name": "stderr",
     "output_type": "stream",
     "text": [
      "C:\\Users\\MoBash\\anaconda3\\lib\\site-packages\\seaborn\\_decorators.py:36: FutureWarning: Pass the following variable as a keyword arg: x. From version 0.12, the only valid positional argument will be `data`, and passing other arguments without an explicit keyword will result in an error or misinterpretation.\n",
      "  warnings.warn(\n"
     ]
    },
    {
     "data": {
      "image/png": "[encoded data removed]",
      "text/plain": [
       "<Figure size 432x288 with 1 Axes>"
      ]
     },
     "metadata": {
      "needs_background": "light"
     },
     "output_type": "display_data"
    }
   ],
   "source": [
    "outliers = sns.boxenplot(df['charges'])"
   ]
  },
  {
   "cell_type": "code",
   "execution_count": 112,
   "metadata": {},
   "outputs": [],
   "source": [
    "###Perform an explanatory analysis to determine the percentage of children"
   ]
  },
  {
   "cell_type": "code",
   "execution_count": 113,
   "metadata": {},
   "outputs": [
    {
     "data": {
      "image/png": "[encoded data removed]",
      "text/plain": [
       "<Figure size 360x360 with 1 Axes>"
      ]
     },
     "metadata": {
      "needs_background": "light"
     },
     "output_type": "display_data"
    }
   ],
   "source": [
    "new_df = df.groupby('region')['children'].value_counts(normalize=True)\n",
    "new_df = new_df.mul(100).rename('Percent').reset_index()\n",
    "\n",
    "df = sns.catplot(x='children', y='Percent', kind='bar', data=new_df)\n",
    "df.ax.set_ylim(0,100)\n",
    "\n",
    "for p in df.ax.patches:\n",
    "    txt = str(p.get_height().round(1)) + '%'\n",
    "    txt_x = p.get_x()\n",
    "    txt_y = p.get_height()\n",
    "    df.ax.text(txt_x,txt_y,txt)"
   ]
  },
  {
   "cell_type": "code",
   "execution_count": 114,
   "metadata": {},
   "outputs": [],
   "source": [
    "###Show the distrubution of charges"
   ]
  },
  {
   "cell_type": "code",
   "execution_count": 145,
   "metadata": {},
   "outputs": [
    {
     "data": {
      "text/plain": [
       "[<matplotlib.lines.Line2D at 0x1dd53246640>]"
      ]
     },
     "execution_count": 145,
     "metadata": {},
     "output_type": "execute_result"
    },
    {
     "data": {
      "image/png": "[encoded data removed]",
      "text/plain": [
       "<Figure size 432x288 with 1 Axes>"
      ]
     },
     "metadata": {
      "needs_background": "light"
     },
     "output_type": "display_data"
    }
   ],
   "source": [
    "dist = plt.plot(df['charges'])\n",
    "dist"
   ]
  },
  {
   "cell_type": "code",
   "execution_count": null,
   "metadata": {},
   "outputs": [],
   "source": [
    "###Show the distrubution of bmi"
   ]
  },
  {
   "cell_type": "code",
   "execution_count": null,
   "metadata": {},
   "outputs": [
    {
     "data": {
      "text/plain": [
       "[<matplotlib.lines.Line2D at 0x2d081db7790>]"
      ]
     },
     "execution_count": 185,
     "metadata": {},
     "output_type": "execute_result"
    },
    {
     "data": {
      "image/png": "[encoded data removed]",
      "text/plain": [
       "<Figure size 432x288 with 1 Axes>"
      ]
     },
     "metadata": {
      "needs_background": "light"
     },
     "output_type": "display_data"
    }
   ],
   "source": [
    "plt.plot(df['bmi'])"
   ]
  },
  {
   "cell_type": "code",
   "execution_count": null,
   "metadata": {},
   "outputs": [],
   "source": [
    "###Perform a predictive analysis to see if we successfully predict the cost of medical insurance using the following\n",
    "##LinearRegression ##DecisionTreeRegressor ##RandomFroestRegressor\n",
    "###Compare and contrast to pick which of the following attribute is suitable"
   ]
  },
  {
   "cell_type": "code",
   "execution_count": 119,
   "metadata": {},
   "outputs": [],
   "source": [
    "df['charges'] = df['charges'].astype('int')"
   ]
  },
  {
   "cell_type": "code",
   "execution_count": 120,
   "metadata": {},
   "outputs": [
    {
     "name": "stdout",
     "output_type": "stream",
     "text": [
      "<bound method NDFrame.astype of       age     sex     bmi  children smoker     region  charges\n",
      "0      19  female  27.900         0    yes  southwest    16884\n",
      "1      18    male  33.770         1     no  southeast     1725\n",
      "2      28    male  33.000         3     no  southeast     4449\n",
      "3      33    male  22.705         0     no  northwest    21984\n",
      "4      32    male  28.880         0     no  northwest     3866\n",
      "...   ...     ...     ...       ...    ...        ...      ...\n",
      "1333   50    male  30.970         3     no  northwest    10600\n",
      "1334   18  female  31.920         0     no  northeast     2205\n",
      "1335   18  female  36.850         0     no  southeast     1629\n",
      "1336   21  female  25.800         0     no  southwest     2007\n",
      "1337   61  female  29.070         0    yes  northwest    29141\n",
      "\n",
      "[1338 rows x 7 columns]>\n"
     ]
    }
   ],
   "source": [
    "df = df.astype({'charges':'int'})\n",
    "print(df.astype)"
   ]
  },
  {
   "cell_type": "code",
   "execution_count": 121,
   "metadata": {},
   "outputs": [
    {
     "data": {
      "text/html": [
       "<div>\n",
       "<style scoped>\n",
       "    .dataframe tbody tr th:only-of-type {\n",
       "        vertical-align: middle;\n",
       "    }\n",
       "\n",
       "    .dataframe tbody tr th {\n",
       "        vertical-align: top;\n",
       "    }\n",
       "\n",
       "    .dataframe thead th {\n",
       "        text-align: right;\n",
       "    }\n",
       "</style>\n",
       "<table border=\"1\" class=\"dataframe\">\n",
       "  <thead>\n",
       "    <tr style=\"text-align: right;\">\n",
       "      <th></th>\n",
       "      <th>age</th>\n",
       "      <th>sex</th>\n",
       "      <th>bmi</th>\n",
       "      <th>children</th>\n",
       "      <th>smoker</th>\n",
       "      <th>region</th>\n",
       "      <th>charges</th>\n",
       "    </tr>\n",
       "  </thead>\n",
       "  <tbody>\n",
       "    <tr>\n",
       "      <th>0</th>\n",
       "      <td>19</td>\n",
       "      <td>0</td>\n",
       "      <td>27.900</td>\n",
       "      <td>0</td>\n",
       "      <td>1</td>\n",
       "      <td>3</td>\n",
       "      <td>16884</td>\n",
       "    </tr>\n",
       "    <tr>\n",
       "      <th>1</th>\n",
       "      <td>18</td>\n",
       "      <td>1</td>\n",
       "      <td>33.770</td>\n",
       "      <td>1</td>\n",
       "      <td>0</td>\n",
       "      <td>2</td>\n",
       "      <td>1725</td>\n",
       "    </tr>\n",
       "    <tr>\n",
       "      <th>2</th>\n",
       "      <td>28</td>\n",
       "      <td>1</td>\n",
       "      <td>33.000</td>\n",
       "      <td>3</td>\n",
       "      <td>0</td>\n",
       "      <td>2</td>\n",
       "      <td>4449</td>\n",
       "    </tr>\n",
       "    <tr>\n",
       "      <th>3</th>\n",
       "      <td>33</td>\n",
       "      <td>1</td>\n",
       "      <td>22.705</td>\n",
       "      <td>0</td>\n",
       "      <td>0</td>\n",
       "      <td>1</td>\n",
       "      <td>21984</td>\n",
       "    </tr>\n",
       "    <tr>\n",
       "      <th>4</th>\n",
       "      <td>32</td>\n",
       "      <td>1</td>\n",
       "      <td>28.880</td>\n",
       "      <td>0</td>\n",
       "      <td>0</td>\n",
       "      <td>1</td>\n",
       "      <td>3866</td>\n",
       "    </tr>\n",
       "  </tbody>\n",
       "</table>\n",
       "</div>"
      ],
      "text/plain": [
       "   age  sex     bmi  children  smoker  region  charges\n",
       "0   19    0  27.900         0       1       3    16884\n",
       "1   18    1  33.770         1       0       2     1725\n",
       "2   28    1  33.000         3       0       2     4449\n",
       "3   33    1  22.705         0       0       1    21984\n",
       "4   32    1  28.880         0       0       1     3866"
      ]
     },
     "execution_count": 121,
     "metadata": {},
     "output_type": "execute_result"
    }
   ],
   "source": [
    "enc = LabelEncoder()\n",
    "df['region'] = enc.fit_transform(df['region'])\n",
    "df['smoker'] = enc.fit_transform(df['smoker'])\n",
    "df['sex'] = enc.fit_transform(df['sex'])\n",
    "df.head()"
   ]
  },
  {
   "cell_type": "code",
   "execution_count": 122,
   "metadata": {},
   "outputs": [],
   "source": [
    "X = df.drop('charges', axis = 1)\n",
    "Y = df['charges']"
   ]
  },
  {
   "cell_type": "code",
   "execution_count": 123,
   "metadata": {},
   "outputs": [],
   "source": [
    "X_train, X_test, Y_train, Y_test = train_test_split(X,Y, test_size = 0.3, random_state = 1)"
   ]
  },
  {
   "cell_type": "code",
   "execution_count": 124,
   "metadata": {},
   "outputs": [
    {
     "data": {
      "text/plain": [
       "LinearRegression()"
      ]
     },
     "execution_count": 124,
     "metadata": {},
     "output_type": "execute_result"
    }
   ],
   "source": [
    "Model1 = LinearRegression()\n",
    "Model1.fit(X_train,Y_train)"
   ]
  },
  {
   "cell_type": "code",
   "execution_count": 125,
   "metadata": {},
   "outputs": [
    {
     "data": {
      "text/plain": [
       "array([ 4.50002329e+03,  1.28189908e+04,  1.23972430e+04,  1.34298827e+04,\n",
       "        5.31257061e+02,  3.22638349e+04,  1.30758123e+04,  1.22343270e+04,\n",
       "        3.82884043e+03,  3.01559841e+04,  1.13192872e+04,  1.72080169e+04,\n",
       "        8.91786552e+03,  8.22831030e+03,  3.58119299e+03,  1.01914024e+04,\n",
       "        3.97083902e+03,  6.75470261e+03,  1.52136632e+04,  1.42493061e+04,\n",
       "        1.24179696e+04,  3.34492832e+04,  9.12365195e+03,  8.85329647e+03,\n",
       "        3.13355885e+03,  8.14370567e+03,  9.33870727e+03,  1.10787940e+04,\n",
       "        7.54481493e+03,  4.40488882e+03,  1.39108007e+04,  5.64837843e+03,\n",
       "        3.46822872e+04,  2.74017556e+04,  3.38100230e+04,  9.52510904e+03,\n",
       "        3.06082782e+04,  2.67062069e+04,  1.54108259e+04,  3.41393440e+04,\n",
       "        6.63419896e+03,  1.39732230e+04,  1.08966749e+04,  1.47976063e+04,\n",
       "        4.09688404e+03,  1.29618132e+04,  4.71551287e+03,  2.92766775e+04,\n",
       "        7.31736132e+03,  1.39525176e+04,  1.35185995e+04,  1.20793579e+04,\n",
       "        2.00213983e+03,  8.64321206e+03,  2.63762566e+04,  1.04912058e+04,\n",
       "        3.46730887e+04,  1.43463819e+04,  3.23298709e+03,  6.29692132e+03,\n",
       "        6.98419654e+03,  1.47775690e+04,  2.76388171e+04,  3.44437235e+03,\n",
       "        1.56079075e+04,  1.11416275e+04,  1.09540993e+04,  1.07402126e+04,\n",
       "        1.67466582e+03,  2.56538560e+04,  3.75891515e+04,  3.33332247e+04,\n",
       "        2.04562746e+03,  1.12030268e+04,  1.35986559e+04,  3.50856627e+04,\n",
       "        3.27416044e+03,  4.30068922e+03,  1.02358825e+04,  1.03541112e+04,\n",
       "        3.18017017e+01,  1.39302169e+04,  1.03080619e+04,  3.15187577e+03,\n",
       "        3.36376060e+04,  3.36101081e+04,  7.05719202e+03,  3.81599230e+04,\n",
       "        1.26756559e+04,  1.02497057e+04,  3.04845226e+04,  3.40645689e+04,\n",
       "        1.48083064e+04,  1.10820981e+04,  4.10604871e+02,  1.08398389e+04,\n",
       "        9.48484297e+03,  1.51220270e+04,  1.49158789e+04,  6.01828869e+03,\n",
       "        1.36007914e+04,  2.64490047e+04,  2.82126502e+04,  2.76763180e+04,\n",
       "        3.58848313e+04,  2.75488748e+04,  7.16249959e+02,  9.08346410e+03,\n",
       "        5.11904240e+03,  1.23730726e+04,  5.77296059e+03,  5.15501285e+03,\n",
       "        1.22247470e+03,  1.84834748e+04,  3.34589956e+03,  1.70119152e+03,\n",
       "        1.13250311e+04,  1.25683417e+04,  1.15819475e+04,  3.89067857e+03,\n",
       "        8.81791027e+03,  1.35669798e+04,  8.07311331e+03,  6.48364857e+03,\n",
       "        3.70747731e+04,  1.18406024e+04,  1.20142408e+04,  2.97982591e+04,\n",
       "        3.65414688e+04,  1.13667612e+04,  2.88093359e+04, -4.16178046e+02,\n",
       "        8.15793824e+03,  3.21771552e+04,  8.16119638e+03, -5.81475701e+02,\n",
       "        1.34275172e+03,  5.08092129e+03,  7.65972371e+03,  1.25276898e+04,\n",
       "        1.47395401e+04,  8.88742789e+03,  2.94731664e+04,  1.59488769e+04,\n",
       "        1.44639396e+04,  1.10818422e+04,  2.33108399e+03,  9.81857085e+03,\n",
       "        4.17638657e+03,  6.17402334e+03,  1.16376499e+04,  5.49466109e+03,\n",
       "        1.44366616e+04,  1.35364168e+04,  1.29563176e+04,  6.93101492e+03,\n",
       "        1.22165968e+04,  1.07732726e+04,  1.01776640e+04,  4.51396525e+03,\n",
       "        6.04046539e+03,  4.07284106e+04,  1.32528781e+04,  4.22922233e+03,\n",
       "        8.36185761e+03,  5.10363155e+03,  3.27595339e+04,  1.10363374e+04,\n",
       "        1.08372676e+04,  6.92061097e+03,  6.31145308e+03,  6.80999324e+03,\n",
       "        3.32612566e+04,  3.51530483e+04,  2.34814317e+03,  7.62604835e+03,\n",
       "        5.11865438e+03,  1.52479841e+04,  1.59575604e+03,  1.16720822e+04,\n",
       "        1.32925750e+04,  1.14203217e+04,  1.05717087e+04,  1.30849163e+04,\n",
       "        2.52607006e+03,  2.82237312e+04,  2.85155605e+03,  1.49731700e+04,\n",
       "        6.34677169e+03,  1.02590088e+04,  1.47711121e+04,  3.92345043e+04,\n",
       "        2.09994398e+03,  1.64459656e+03,  5.19333860e+03,  7.48747264e+03,\n",
       "        8.10097172e+03,  4.66087853e+03,  1.04567665e+04,  9.25474168e+03,\n",
       "        9.66258992e+03,  1.08914295e+04,  1.00580040e+04,  9.47493800e+03,\n",
       "        8.00933941e+03,  1.42513315e+03,  1.00142116e+04,  7.65423363e+03,\n",
       "        6.63428446e+03,  1.15641999e+04,  5.46782166e+03,  3.34277877e+04,\n",
       "        6.88381427e+03,  6.19120647e+03,  7.73952048e+03,  3.88995430e+04,\n",
       "        1.18213171e+04,  2.88904029e+04,  3.33747378e+03,  3.32271478e+04,\n",
       "        3.78821439e+03,  3.21684745e+04,  1.36896628e+04,  2.62806958e+03,\n",
       "        2.06441379e+03,  1.28441689e+03,  6.22494137e+03,  4.47857905e+03,\n",
       "        2.59000803e+04,  1.59752585e+04,  5.38702851e+03,  1.31660666e+04,\n",
       "        3.93305199e+04,  4.70435353e+03,  1.25231742e+04,  1.11585805e+04,\n",
       "        2.80518956e+04,  2.93642213e+03,  1.32110176e+04,  6.07015107e+03,\n",
       "        1.53883784e+04,  6.22037253e+03,  1.67147542e+04,  4.32814614e+03,\n",
       "        1.24582931e+04,  3.46902468e+04,  1.08665439e+04,  1.04386388e+04,\n",
       "        5.28254147e+03,  1.65987132e+04,  1.43072726e+04,  5.45955663e+03,\n",
       "        1.14211423e+04,  1.26085488e+04,  4.65917891e+03,  7.20924121e+03,\n",
       "        2.79792836e+04,  3.24453448e+04, -2.80987950e+02,  4.03566172e+04,\n",
       "        9.65897926e+03,  7.73433673e+03,  1.09607761e+04,  3.35806187e+04,\n",
       "        3.62118785e+04,  3.70684883e+04,  5.11191733e+03,  6.15727903e+03,\n",
       "        1.05279034e+04,  8.31533879e+03,  4.48643577e+03,  1.14811160e+04,\n",
       "        1.01912787e+04,  9.89221024e+03,  9.47586478e+03,  3.99725849e+04,\n",
       "        8.25610566e+03,  4.74153550e+03,  2.65402562e+04,  2.81751577e+04,\n",
       "        1.35302122e+03,  1.19653387e+04,  6.17725043e+03,  4.11136695e+03,\n",
       "        1.05096108e+04,  1.14199697e+04,  1.52107703e+04,  1.14683979e+04,\n",
       "        4.00168111e+03,  7.58547012e+03,  1.16296239e+04,  1.27705614e+04,\n",
       "        1.70952429e+04,  1.09684332e+04,  5.89779469e+03,  3.21409287e+04,\n",
       "        1.00572784e+04,  6.40634717e+03,  2.79379359e+03,  7.55904181e+03,\n",
       "        7.02600640e+03,  6.98721145e+03,  6.23802163e+03,  8.98901472e+03,\n",
       "        6.92315754e+03,  3.11255248e+04,  6.00072054e+03,  4.57999420e+03,\n",
       "        2.22332882e+03,  4.38877263e+03,  8.53962485e+03,  2.91795349e+03,\n",
       "        2.75612201e+04,  6.97683643e+03,  6.62284414e+03,  1.48839571e+04,\n",
       "        9.99546616e+03,  1.14115950e+04,  1.40583349e+04,  1.53036927e+04,\n",
       "        1.47923489e+04,  2.35403901e+04,  5.45555130e+03,  9.76569790e+03,\n",
       "        1.04540288e+04,  9.86549475e+03,  1.31253236e+04,  6.83727915e+03,\n",
       "        3.67138146e+03,  3.31301518e+04,  1.42928807e+04,  1.44788439e+04,\n",
       "        1.19473705e+04,  3.47014485e+03,  9.99111886e+03,  3.33381198e+03,\n",
       "        2.92865361e+03,  1.12260522e+04,  1.57388555e+04,  1.32788390e+04,\n",
       "        3.54951138e+04,  3.69866244e+03,  3.41943923e+04,  2.58663045e+03,\n",
       "        9.05021890e+03,  2.97454178e+04,  5.69389843e+03,  2.03549685e+03,\n",
       "        7.35799649e+03,  1.37186457e+04,  6.12086159e+02,  6.32089968e+03,\n",
       "        9.18733637e+03,  3.79359773e+04,  2.58889363e+04,  9.72777474e+03,\n",
       "        1.19301983e+04,  3.77731501e+04,  1.49933449e+04,  3.48713385e+03,\n",
       "        5.61567929e+03,  9.13974046e+03,  1.65799262e+04,  9.96822536e+03,\n",
       "        7.69870995e+03,  1.03942756e+04,  3.08036136e+04,  3.18041458e+04,\n",
       "        6.75803139e+03,  3.20218463e+04,  3.42795344e+04,  1.46348951e+04,\n",
       "        9.10221337e+03,  1.03304989e+04,  5.46584821e+03,  1.20967309e+04,\n",
       "        1.47330832e+04,  4.23238515e+03,  1.32564275e+04,  1.29987505e+04,\n",
       "        1.03294045e+04,  2.80069723e+04,  2.70815028e+04,  3.31131037e+04,\n",
       "        1.25248131e+04,  1.48911226e+04,  1.69445075e+04,  4.29577659e+03,\n",
       "        9.70215362e+03,  9.19361560e+03,  3.21643404e+04,  3.89680663e+04,\n",
       "        1.12865854e+04,  3.58117712e+04,  2.77079699e+04,  3.22997311e+04,\n",
       "        9.08108160e+03,  1.61143522e+04,  3.69046330e+03,  3.21689858e+03,\n",
       "        2.73100530e+04,  9.39200769e+03])"
      ]
     },
     "execution_count": 125,
     "metadata": {},
     "output_type": "execute_result"
    }
   ],
   "source": [
    "pred1 = Model1.predict(X_test)\n",
    "pred1"
   ]
  },
  {
   "cell_type": "code",
   "execution_count": 126,
   "metadata": {},
   "outputs": [
    {
     "data": {
      "text/plain": [
       "0.7403660708714219"
      ]
     },
     "execution_count": 126,
     "metadata": {},
     "output_type": "execute_result"
    }
   ],
   "source": [
    "Model1.score(X_test, Y_test)"
   ]
  },
  {
   "cell_type": "code",
   "execution_count": 130,
   "metadata": {},
   "outputs": [],
   "source": [
    "##Decision Tree Classifier"
   ]
  },
  {
   "cell_type": "code",
   "execution_count": 131,
   "metadata": {},
   "outputs": [
    {
     "data": {
      "text/plain": [
       "DecisionTreeClassifier()"
      ]
     },
     "execution_count": 131,
     "metadata": {},
     "output_type": "execute_result"
    }
   ],
   "source": [
    "Model2 = DecisionTreeClassifier()\n",
    "Model2.fit(X_train, Y_train)"
   ]
  },
  {
   "cell_type": "code",
   "execution_count": 132,
   "metadata": {},
   "outputs": [
    {
     "data": {
      "text/plain": [
       "array([ 1137, 11735,  9174, 10977,  1980, 21472,  8703, 11658,  2721,\n",
       "        3972, 12648, 10928,  7256,  5979,  1137,  8978,  5257,  6311,\n",
       "       36910, 13457, 10435,  5138,  8232,  8457, 21344,  6393,  8604,\n",
       "        8280,  5972,  2721, 12643, 14358, 22218, 36898, 24520, 10422,\n",
       "       36197, 17085, 11848, 28340, 20177, 11735, 10702, 12333,  4934,\n",
       "       12323,  4830, 36950,  9361, 14001, 12981, 11881,  2483,  7726,\n",
       "       33732, 40419,  8522, 12638,  4564,  1146,  3171, 13143,  4133,\n",
       "        2850, 12323,  8964, 10977, 12629,  2196, 15006, 23807, 37607,\n",
       "        1744, 12475, 12950, 39556,  2639,  2866, 11837, 10106,  2585,\n",
       "       12643, 11729,  2494, 22462, 37484,  5979,  8023,  9778,  6571,\n",
       "       55135, 44641, 12928,  9249,  1627, 24476,  9855, 12643, 12231,\n",
       "       24915, 11735,  2974,  5708, 36397, 27808, 18310,  1837,  7626,\n",
       "        1629, 11840,  3972, 20177,  1705, 12485,  2639,  1256,  6059,\n",
       "       14256, 24915,  1877,  8277, 10141,  5974,  9500, 12949,  8978,\n",
       "       12044, 19719,  7162, 42560, 36149, 13844,  7537,  4889,  7742,\n",
       "        1242,  1708, 14133,  9361, 48885, 13217,  5584, 19719, 13887,\n",
       "       13224, 10601,  1720,  8059,  1725,  6112, 42560,  4189, 10806,\n",
       "       13430,  7789,  5979,  9377,  9377,  9447, 34472,  4889, 12928,\n",
       "       11554, 20277,  4462,  1532,  5245, 10450, 11837,  5458,  5972,\n",
       "        3201, 42303, 12815, 16420,  7537,  2438, 14007, 16115,  5124,\n",
       "       12323, 14449,  8671,  7443,  2457,  2494,  2156,  8547,  9500,\n",
       "        7173, 47496, 44260,  4402,  2196,  7133,  9361,  6184,  2138,\n",
       "       25992,  8232,  6082,  6781, 12105,  6082,  7256,  2198,  6082,\n",
       "        5966, 37465, 11837,  3213, 22218, 38511,  4466,  4076, 47305,\n",
       "       11165, 36189,  1135,  8027,  1967,  9361, 12643, 15006,  1639,\n",
       "        2483,  3866, 13126,  2331, 13887, 26018, 14001, 44260,  5594,\n",
       "       11512, 20630, 16138,  1639,  8334,  4889, 21978,  1532, 15230,\n",
       "        1986, 20630, 44641,  7147,  8062, 18903, 13770, 29186,  5031,\n",
       "       12981, 11289,  2727,  2254, 33732, 22462,  2803, 14235,  8211,\n",
       "        6358,  8823,  5757, 48885, 21978,  2138, 24915,  8671, 25517,\n",
       "        1137, 28923,  7147, 14478,  7256, 36910,  6985, 12404, 17748,\n",
       "       17904, 16297,  9704,  4571,  1980,  9411, 11299, 36910,  9541,\n",
       "       18955,  6858, 11842, 14349, 12982, 24476,  3046, 21880,  7639,\n",
       "        4564,  2731,  7153,  6393,  9788,  3385,  6496,  4433, 39047,\n",
       "        5267, 20177,  1639,  7133,  4463,  1906, 21082,  2473, 19350,\n",
       "       13393, 13415,  9288, 13887,  9249,  9866,  1694,  3392,  7153,\n",
       "       11454,  4266, 14001,  6455,  5209, 40974, 13224, 11363,  9866,\n",
       "        2254,  8604,  3353,  2102,  5438, 12928, 13974, 39727,  2128,\n",
       "        5438,  2483,  5966, 37484,  3866,  2221,  4466, 44423, 21595,\n",
       "        1634, 10106, 48885,  2221,  7256,  9283, 28950,  9583,  2534,\n",
       "        4133,  9566, 41661,  8823,  5003,  7633, 37165,  7222,  6455,\n",
       "       10422, 43254,  9140,  6082,  8534,  6272, 10977, 16455,  2254,\n",
       "        5124, 11944,  6082, 35491, 17352,  6358,  8964, 11163, 13405,\n",
       "        2842,  3875, 12629,  4889, 46130,  8334, 21978, 36397, 19798,\n",
       "       19594, 20709,  1880,  1967,  2866,  9566])"
      ]
     },
     "execution_count": 132,
     "metadata": {},
     "output_type": "execute_result"
    }
   ],
   "source": [
    "pred2 = Model2.predict(X_test)\n",
    "pred2"
   ]
  },
  {
   "cell_type": "code",
   "execution_count": 133,
   "metadata": {},
   "outputs": [
    {
     "data": {
      "text/plain": [
       "0.024875621890547265"
      ]
     },
     "execution_count": 133,
     "metadata": {},
     "output_type": "execute_result"
    }
   ],
   "source": [
    "Model2.score(X_test, Y_test)"
   ]
  },
  {
   "cell_type": "code",
   "execution_count": 135,
   "metadata": {},
   "outputs": [],
   "source": [
    "## RandomForestClassifier"
   ]
  },
  {
   "cell_type": "code",
   "execution_count": 137,
   "metadata": {},
   "outputs": [
    {
     "data": {
      "text/plain": [
       "RandomForestClassifier()"
      ]
     },
     "execution_count": 137,
     "metadata": {},
     "output_type": "execute_result"
    }
   ],
   "source": [
    "Model3 = RandomForestClassifier()\n",
    "Model3.fit(X_train, Y_train)"
   ]
  },
  {
   "cell_type": "code",
   "execution_count": 139,
   "metadata": {},
   "outputs": [
    {
     "data": {
      "text/plain": [
       "array([ 1639, 10976,  9144, 11436,  1964, 20745,  8978, 11658,  2721,\n",
       "       16577, 24513, 46113,  5584,  7337,  1137,  8027,  3866,  7151,\n",
       "       14474, 13470, 10435,  5138,  7421,  8782, 21344,  6393,  6746,\n",
       "        8280,  4934,  2721,  9872,  7726, 21659, 17352, 30942, 24476,\n",
       "       36197, 19199, 11090, 43943,  2801, 10976, 10702, 12333,  4934,\n",
       "       12323,  1725, 19350, 13415, 13430, 11743, 11881,  2045,  7151,\n",
       "       11272,  5662, 30942, 12638,  4564,  1146,  3171, 13143, 17085,\n",
       "        2850, 13143, 10461, 10600,  9855,  2719, 16115, 46130, 37701,\n",
       "        1744, 12475, 13770, 39047,  2639,  1815, 11837,  7201,  2585,\n",
       "       12643, 11305,  1972, 39047, 37484,  7623, 46113, 10043,  7209,\n",
       "       21348, 21659, 11987,  7633,  1627, 27346,  7624, 11881, 12231,\n",
       "        4719, 10976, 18310, 19199, 16297, 29330, 33907,  1744,  6849,\n",
       "        2201, 11658,  3972,  3392,  1627, 30063,  2639,  1256,  6653,\n",
       "       14256, 43753,  2257, 11837, 10407,  5478,  6250, 44260,  7196,\n",
       "       13430, 17663, 19444,  7441,  1146,  1837,  9715, 19719, 21232,\n",
       "        1728,  1627, 14133, 13415, 12797, 13635,  5584, 17663, 13887,\n",
       "       13224, 24476,  1720,  7418,  1725,  8017,  7147,  4433, 10848,\n",
       "       11512, 10982,  2866,  8964,  9617,  9447,  1526,  3935, 46889,\n",
       "       11554,  3659,  5327,  1532, 39871,  9724, 12233,  4992,  6311,\n",
       "        3021, 35069, 43578,  3176,  9447,  1980, 13430,  5458,  4753,\n",
       "       12323, 12029,  5272, 28476,  3176, 19350,  2156,  9549,  7222,\n",
       "        6799, 12928, 48675,  2302,  2719,  9193,  8269,  6184,  2138,\n",
       "        9301,  8232,  7147,  6571, 11741,  5584,  6203,  1621,  8334,\n",
       "        6770, 12890, 11842,  3213, 23887,  4846, 20177,  6082, 47305,\n",
       "       10072, 18223,  1135, 42856,  2203, 19515, 12643,  4005,  1639,\n",
       "        1972,  5272,  2166, 16884, 13887, 26018, 14001, 46151,  7228,\n",
       "       29186,  8116, 16138,  1639,  6610,  2902,  9748,  2020, 15230,\n",
       "        1824,  9140, 30184,  7160,  8556,  3227, 14410,  8023,  4237,\n",
       "       11743, 11987,  2727, 17878, 33732, 20296,  1627, 13635,  8516,\n",
       "        6389,  7633, 38415, 55135, 42560,  2138,  4992, 11082, 10791,\n",
       "        1137, 28923,  8062,  9620,  7256, 23401,  5031,  4718, 17748,\n",
       "       15006,  1256,  8516,  5257,  2643,  8522, 10806, 14235, 10564,\n",
       "       18955,  4237,  9625, 13112, 13405, 24476,  3046, 21348, 12797,\n",
       "        6113,  4992, 13725,  4747,  9788,  4347,  6238,  5327, 22462,\n",
       "        5267, 20177,  1135,  6877,  5836,  1639, 17179,  2473,  7789,\n",
       "       13393,  5458,  9288, 13887, 11015,  9541, 13747,  3392,  7639,\n",
       "       11454,  4266, 14001,  7731, 27375, 40974, 11512, 21797, 10923,\n",
       "        2254,  7729,  3353, 23241,  5438, 11987, 14410, 62592,  2128,\n",
       "       39871,  3847,  8516, 37484,  4243,  2719,  4753,  9634, 21595,\n",
       "        2217,  8211, 63770,  2221,  6796,  8280, 28950,  4753,  2699,\n",
       "       16796,  9566, 11396,  8520,  5246,  8413,  3277, 23967,  6198,\n",
       "       19515, 43921,  5438,  2498,  8534, 11013, 10600, 15612,  2731,\n",
       "        8944, 11944,  7265, 34838, 17748, 24915,  8964, 27322, 10602,\n",
       "        4571,  3766,  9182, 36950, 46130,  8334, 39871, 16297, 20296,\n",
       "        9715, 20709,  1875,  2257, 18310,  6496])"
      ]
     },
     "execution_count": 139,
     "metadata": {},
     "output_type": "execute_result"
    }
   ],
   "source": [
    "pred3 = Model3.predict(X_test)\n",
    "pred3"
   ]
  },
  {
   "cell_type": "code",
   "execution_count": 142,
   "metadata": {},
   "outputs": [
    {
     "data": {
      "text/plain": [
       "0.024875621890547265"
      ]
     },
     "execution_count": 142,
     "metadata": {},
     "output_type": "execute_result"
    }
   ],
   "source": [
    "Model3.score(X_test, Y_test)"
   ]
  },
  {
   "cell_type": "code",
   "execution_count": null,
   "metadata": {},
   "outputs": [],
   "source": []
  }
 ],
 "metadata": {
  "kernelspec": {
   "display_name": "Python 3",
   "language": "python",
   "name": "python3"
  },
  "language_info": {
   "codemirror_mode": {
    "name": "ipython",
    "version": 3
   },
   "file_extension": ".py",
   "mimetype": "text/x-python",
   "name": "python",
   "nbconvert_exporter": "python",
   "pygments_lexer": "ipython3",
   "version": "3.8.5"
  }
 },
 "nbformat": 4,
 "nbformat_minor": 4
}
